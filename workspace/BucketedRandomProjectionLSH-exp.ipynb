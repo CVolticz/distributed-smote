{
 "cells": [
  {
   "cell_type": "code",
   "execution_count": 9,
   "id": "bd4e94c2-5f60-4fd4-8693-e8870d70e9ba",
   "metadata": {},
   "outputs": [
    {
     "name": "stdout",
     "output_type": "stream",
     "text": [
      "+---+-----------+\n",
      "| id|   features|\n",
      "+---+-----------+\n",
      "|  0|[-1.0,-1.0]|\n",
      "|  1| [-1.0,1.0]|\n",
      "|  2| [1.0,-1.0]|\n",
      "|  3|  [1.0,1.0]|\n",
      "+---+-----------+\n",
      "\n",
      "+---+---------+\n",
      "| id| features|\n",
      "+---+---------+\n",
      "|  4|[2.0,2.0]|\n",
      "|  5|[2.0,3.0]|\n",
      "|  6|[3.0,2.0]|\n",
      "|  7|[3.0,3.0]|\n",
      "+---+---------+\n",
      "\n"
     ]
    },
    {
     "data": {
      "text/plain": [
       "(None, None)"
      ]
     },
     "execution_count": 9,
     "metadata": {},
     "output_type": "execute_result"
    }
   ],
   "source": [
    "# import libraries\n",
    "from pyspark.sql import SparkSession\n",
    "from pyspark.ml.linalg import Vectors\n",
    "from pyspark.sql.functions import col\n",
    "from pyspark.ml.feature import BucketedRandomProjectionLSH\n",
    "\n",
    "import pandas as pd\n",
    "import numpy as np\n",
    "\n",
    "# Spark session & context\n",
    "spark = SparkSession.builder.master(\"local\").getOrCreate()\n",
    "sc = spark.sparkContext\n",
    "\n",
    "data = [(0, Vectors.dense([-1.0, -1.0 ]),),\n",
    "        (1, Vectors.dense([-1.0, 1.0 ]),),\n",
    "        (2, Vectors.dense([1.0, -1.0 ]),),\n",
    "        (3, Vectors.dense([1.0, 1.0]),)]\n",
    "\n",
    "data2 = [(4, Vectors.dense([2.0, 2.0 ]),),\n",
    "         (5, Vectors.dense([2.0, 3.0 ]),),\n",
    "         (6, Vectors.dense([3.0, 2.0 ]),),\n",
    "         (7, Vectors.dense([3.0, 3.0]),)]\n",
    "\n",
    "df = spark.createDataFrame(data, [\"id\", \"features\"])\n",
    "df2 = spark.createDataFrame(data2, [\"id\", \"features\"])\n",
    "df.show(), df2.show()"
   ]
  },
  {
   "cell_type": "code",
   "execution_count": 10,
   "id": "a6063eb6-9173-4363-9571-0873ede8211c",
   "metadata": {},
   "outputs": [
    {
     "name": "stdout",
     "output_type": "stream",
     "text": [
      "+---+-----------+--------+\n",
      "| id|   features|  hashes|\n",
      "+---+-----------+--------+\n",
      "|  0|[-1.0,-1.0]| [[0.0]]|\n",
      "|  1| [-1.0,1.0]| [[1.0]]|\n",
      "|  2| [1.0,-1.0]|[[-2.0]]|\n",
      "|  3|  [1.0,1.0]|[[-1.0]]|\n",
      "+---+-----------+--------+\n",
      "\n"
     ]
    }
   ],
   "source": [
    "# setting up brp\n",
    "# used to hash the features based on euclidean distance\n",
    "brp = BucketedRandomProjectionLSH(inputCol='features', outputCol='hashes', seed=4526, bucketLength=1.0)\n",
    "model = brp.fit(df)\n",
    "model.transform(df).show()"
   ]
  },
  {
   "cell_type": "code",
   "execution_count": 17,
   "id": "ada2fbaa-a60c-45cd-a101-404d5ff2f1ec",
   "metadata": {},
   "outputs": [
    {
     "data": {
      "text/plain": [
       "[Row(id=5, features=DenseVector([2.0, 3.0]), hashes=[DenseVector([0.0])], distCol=1.4142135623730951)]"
      ]
     },
     "execution_count": 17,
     "metadata": {},
     "output_type": "execute_result"
    }
   ],
   "source": [
    "model.approxNearestNeighbors(df2, Vectors.dense([1.0, 2.0]), 1).collect()"
   ]
  },
  {
   "cell_type": "code",
   "execution_count": 13,
   "id": "52d90573-8c42-4bf6-a58f-e3375e362167",
   "metadata": {},
   "outputs": [
    {
     "name": "stdout",
     "output_type": "stream",
     "text": [
      "+--------------------+--------------------+------------------+\n",
      "|            datasetA|            datasetB| EuclideanDistance|\n",
      "+--------------------+--------------------+------------------+\n",
      "|{3, [1.0,1.0], [[...|{7, [3.0,3.0], [[...|2.8284271247461903|\n",
      "|{3, [1.0,1.0], [[...|{4, [2.0,2.0], [[...|1.4142135623730951|\n",
      "+--------------------+--------------------+------------------+\n",
      "\n"
     ]
    }
   ],
   "source": [
    "# test cross join with tolerance of 3 units\n",
    "joined_df = model.approxSimilarityJoin(df, df2, 3.0, distCol=\"EuclideanDistance\")\n",
    "joined_df.show(10)"
   ]
  },
  {
   "cell_type": "code",
   "execution_count": null,
   "id": "4e31a68c-0393-4edd-be9e-bf718be2a33b",
   "metadata": {},
   "outputs": [],
   "source": []
  }
 ],
 "metadata": {
  "kernelspec": {
   "display_name": "Python 3 (ipykernel)",
   "language": "python",
   "name": "python3"
  },
  "language_info": {
   "codemirror_mode": {
    "name": "ipython",
    "version": 3
   },
   "file_extension": ".py",
   "mimetype": "text/x-python",
   "name": "python",
   "nbconvert_exporter": "python",
   "pygments_lexer": "ipython3",
   "version": "3.11.4"
  }
 },
 "nbformat": 4,
 "nbformat_minor": 5
}
